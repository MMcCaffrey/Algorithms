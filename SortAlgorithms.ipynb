{
 "cells": [
  {
   "cell_type": "markdown",
   "metadata": {},
   "source": [
    "# Sorting Algorithms"
   ]
  },
  {
   "cell_type": "code",
   "execution_count": 1,
   "metadata": {},
   "outputs": [],
   "source": [
    "import numpy as np"
   ]
  },
  {
   "cell_type": "code",
   "execution_count": 2,
   "metadata": {},
   "outputs": [],
   "source": [
    "def bubblesort(input):\n",
    "    n = len(input)\n",
    "    for i in range(n):\n",
    "        for j in range(0,n-i-1):\n",
    "            if input[j] > input[j+1]:\n",
    "                input[j], input[j+1] = input[j+1], input[j]\n",
    "    return input\n",
    "\n",
    "def merge(left, right):\n",
    "    result=[]\n",
    "    while len(left)!=0 and len(right)!=0:\n",
    "        if left[0] < right[0]:\n",
    "            result.append(left.pop(0))\n",
    "        else:\n",
    "            result.append(right.pop(0))\n",
    "    if len(left)==0:\n",
    "        result+=right\n",
    "    else:\n",
    "        result+=left\n",
    "    return result\n",
    "\n",
    "def mergesort(input):\n",
    "    if len(input) < 2:\n",
    "        return input\n",
    "    else:\n",
    "        middle = len(input)//2\n",
    "        left = mergesort(input[:middle])\n",
    "        right = mergesort(input[middle:])\n",
    "        return merge(left, right)"
   ]
  },
  {
   "cell_type": "code",
   "execution_count": 7,
   "metadata": {},
   "outputs": [
    {
     "name": "stdout",
     "output_type": "stream",
     "text": [
      "Bubble Sort\n",
      "Bubble Sort\n",
      "Bubble Sort\n",
      "Bubble Sort\n",
      "Bubble Sort\n",
      "Bubble Sort\n",
      "Bubble Sort\n",
      "112 ms ± 2.28 ms per loop (mean ± std. dev. of 7 runs, 100 loops each)\n"
     ]
    }
   ],
   "source": [
    "%%timeit -n100 print(\"Bubble Sort\")\n",
    "list1 = list(np.random.randint(1,100, size=1000)) \n",
    "bubblesort(list1)"
   ]
  },
  {
   "cell_type": "code",
   "execution_count": 8,
   "metadata": {},
   "outputs": [
    {
     "name": "stdout",
     "output_type": "stream",
     "text": [
      "Merge Sort\n",
      "Merge Sort\n",
      "Merge Sort\n",
      "Merge Sort\n",
      "Merge Sort\n",
      "Merge Sort\n",
      "Merge Sort\n",
      "6.06 ms ± 66 µs per loop (mean ± std. dev. of 7 runs, 100 loops each)\n"
     ]
    }
   ],
   "source": [
    "%%timeit -n100 print(\"Merge Sort\")\n",
    "list2 = list(np.random.randint(1,100, size=1000))\n",
    "mergesort(list2)"
   ]
  },
  {
   "cell_type": "code",
   "execution_count": null,
   "metadata": {},
   "outputs": [],
   "source": []
  }
 ],
 "metadata": {
  "kernelspec": {
   "display_name": "Python 3",
   "language": "python",
   "name": "python3"
  },
  "language_info": {
   "codemirror_mode": {
    "name": "ipython",
    "version": 3
   },
   "file_extension": ".py",
   "mimetype": "text/x-python",
   "name": "python",
   "nbconvert_exporter": "python",
   "pygments_lexer": "ipython3",
   "version": "3.6.3"
  }
 },
 "nbformat": 4,
 "nbformat_minor": 2
}
